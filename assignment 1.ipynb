{
 "cells": [
  {
   "cell_type": "markdown",
   "metadata": {},
   "source": [
    "## Data Type"
   ]
  },
  {
   "cell_type": "code",
   "execution_count": 2,
   "metadata": {},
   "outputs": [
    {
     "name": "stdout",
     "output_type": "stream",
     "text": [
      "<class 'int'>\n",
      "8\n",
      "<class 'float'>\n",
      "5.77\n",
      "<class 'complex'>\n",
      "4j\n",
      "<class 'str'>\n",
      "Hello Bangladesh\n"
     ]
    }
   ],
   "source": [
    "#int data\n",
    "a=8\n",
    "print(type(a))\n",
    "print(a)\n",
    "\n",
    "#float data\n",
    "b=5.77\n",
    "print(type(b))\n",
    "print(b)\n",
    "\n",
    "#complex data\n",
    "c=4j\n",
    "print(type(c))\n",
    "print(c)\n",
    "\n",
    "#String data\n",
    "d=\"Hello Bangladesh\"\n",
    "print(type(d))\n",
    "print(d)"
   ]
  },
  {
   "cell_type": "markdown",
   "metadata": {},
   "source": [
    "## List"
   ]
  },
  {
   "cell_type": "code",
   "execution_count": 3,
   "metadata": {},
   "outputs": [
    {
     "name": "stdout",
     "output_type": "stream",
     "text": [
      "['Mamun', 'Nazim', 'Makshud', 'Adnan']\n",
      "Adnan\n",
      "4\n"
     ]
    }
   ],
   "source": [
    "stdlist=[\"Mamun\",\"Nazim\",\"Makshud\",\"Adnan\"]\n",
    "\n",
    "print(stdlist)\n",
    "print(stdlist[3])\n",
    "print(len(stdlist))"
   ]
  },
  {
   "cell_type": "markdown",
   "metadata": {},
   "source": [
    "## Condition"
   ]
  },
  {
   "cell_type": "code",
   "execution_count": 16,
   "metadata": {},
   "outputs": [
    {
     "name": "stdout",
     "output_type": "stream",
     "text": [
      "rifat is Older than nazrul\n",
      "marks1 is greater than marks2\n",
      "Both conditions are True\n"
     ]
    }
   ],
   "source": [
    "\n",
    "\n",
    "#if else example\n",
    "\n",
    "nazrul=26\n",
    "rifat=30\n",
    "if mamun > azhar:\n",
    "    print(\"rifat is Older than nazrul\")\n",
    "    \n",
    "#elif example    \n",
    "marks1 = 400\n",
    "marks2 = 44\n",
    "if marks2 > marks1:\n",
    "  print(\"marks2 is greater than marks1\")\n",
    "elif marks1 == marks2:\n",
    "  print(\"marks1 and marks2 are equal\")\n",
    "else:\n",
    "  print(\"marks1 is greater than marks2\") \n",
    "\n",
    "#if example\n",
    "a=10\n",
    "b=3\n",
    "c=12\n",
    "if a > b and c > a:\n",
    "  print(\"Both conditions are True\")\n",
    "\n"
   ]
  },
  {
   "cell_type": "markdown",
   "metadata": {},
   "source": [
    "## Loop"
   ]
  },
  {
   "cell_type": "code",
   "execution_count": 22,
   "metadata": {},
   "outputs": [
    {
     "name": "stdout",
     "output_type": "stream",
     "text": [
      "0\n",
      "1\n",
      "2\n",
      "3\n",
      "4\n",
      "5\n",
      "6\n",
      "7\n",
      "8\n",
      "9\n",
      "10\n",
      "11\n",
      "12\n",
      "13\n",
      "14\n",
      "15\n",
      "16\n",
      "17\n",
      "18\n",
      "19\n",
      "1\n",
      "2\n",
      "3\n",
      "4\n",
      "5\n",
      "6\n",
      "7\n",
      "8\n",
      "9\n",
      "10\n",
      "11\n",
      "12\n",
      "13\n",
      "14\n",
      "15\n",
      "16\n",
      "17\n",
      "18\n",
      "19\n",
      "1\n",
      "2\n",
      "3\n",
      "4\n",
      "5\n",
      "6\n",
      "7\n",
      "['Alfa Romeo', 'Acura', 'Bentley', 'BMW']\n",
      "['Alfa Romeo', 'Acura', 'Bentley', 'BMW']\n",
      "['Alfa Romeo', 'Acura', 'Bentley', 'BMW']\n",
      "['Alfa Romeo', 'Acura', 'Bentley', 'BMW']\n"
     ]
    }
   ],
   "source": [
    "# Example of for loop\n",
    "\n",
    "for i in range(20):\n",
    "    print(i)\n",
    "    \n",
    "for x in range(1,20):\n",
    "    print(x)  \n",
    "       \n",
    "for c in range(5,4,14):\n",
    "    print(c)  \n",
    "    \n",
    "#Example of while loop\n",
    "p = 1\n",
    "while p < 8:\n",
    "    print(p)\n",
    "    p += 1\n",
    "    \n",
    "cars=[\"Alfa Romeo\",\"Acura\",\"Bentley\",\"BMW\"]\n",
    "for x in cars:\n",
    "    print(cars)"
   ]
  },
  {
   "cell_type": "markdown",
   "metadata": {},
   "source": [
    "## Function"
   ]
  },
  {
   "cell_type": "code",
   "execution_count": 25,
   "metadata": {},
   "outputs": [
    {
     "name": "stdout",
     "output_type": "stream",
     "text": [
      "Hello Bangladesh\n",
      "Welcome Nazrul\n",
      "Welcome Rifat\n",
      "Welcome Adnan\n",
      "Smart\n",
      "Parrot\n",
      "Smoker\n"
     ]
    }
   ],
   "source": [
    "def helloo():\n",
    "  print(\"Hello Bangladesh\")\n",
    "helloo()\n",
    "\n",
    "\n",
    "def name(fname):\n",
    "  print(fname + \"Nazrul\")\n",
    "  print(fname + \"Rifat\")\n",
    "  print(fname + \"Adnan\")\n",
    "\n",
    "name(\"Welcome \")\n",
    "\n",
    "\n",
    "\n",
    "\n",
    "def birds_name(birds):\n",
    "  for i in birds:\n",
    "    print(i)\n",
    "\n",
    "bname= [\"Smart\", \"Parrot\", \"Smoker\"]\n",
    "\n",
    "birds_name(bname)"
   ]
  },
  {
   "cell_type": "code",
   "execution_count": null,
   "metadata": {},
   "outputs": [],
   "source": []
  }
 ],
 "metadata": {
  "kernelspec": {
   "display_name": "Python 3",
   "language": "python",
   "name": "python3"
  },
  "language_info": {
   "codemirror_mode": {
    "name": "ipython",
    "version": 3
   },
   "file_extension": ".py",
   "mimetype": "text/x-python",
   "name": "python",
   "nbconvert_exporter": "python",
   "pygments_lexer": "ipython3",
   "version": "3.7.3"
  }
 },
 "nbformat": 4,
 "nbformat_minor": 2
}
